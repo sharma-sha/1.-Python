{
 "cells": [
  {
   "cell_type": "code",
   "execution_count": 1,
   "id": "18d1759a",
   "metadata": {},
   "outputs": [
    {
     "name": "stdout",
     "output_type": "stream",
     "text": [
      "Welcome to Assignment-1\n"
     ]
    }
   ],
   "source": [
    "print(\"Welcome to Assignment-1\")"
   ]
  },
  {
   "cell_type": "code",
   "execution_count": 2,
   "id": "f518c072",
   "metadata": {},
   "outputs": [
    {
     "name": "stdout",
     "output_type": "stream",
     "text": [
      "Num1= 10\n",
      "Num2= 30\n",
      "Add= 40\n"
     ]
    }
   ],
   "source": [
    "A=10\n",
    "print(\"Num1=\",A)\n",
    "B=30\n",
    "print(\"Num2=\",B)\n",
    "add=(A+B)\n",
    "print(\"Add=\",add)\n"
   ]
  },
  {
   "cell_type": "code",
   "execution_count": 3,
   "id": "79ab5484",
   "metadata": {},
   "outputs": [
    {
     "name": "stdout",
     "output_type": "stream",
     "text": [
      "Enter the BMI Index:34\n"
     ]
    }
   ],
   "source": [
    "weight=int(input(\"Enter the BMI Index:\"))"
   ]
  },
  {
   "cell_type": "code",
   "execution_count": 5,
   "id": "c09e0dbf",
   "metadata": {},
   "outputs": [
    {
     "name": "stdout",
     "output_type": "stream",
     "text": [
      "Very Overweight\n"
     ]
    }
   ],
   "source": [
    "if(weight<18.5):\n",
    "    print(\"Under weight\")\n",
    "elif(weight<24.9):\n",
    "    print(\"Normal Weight\")\n",
    "elif(weight<29.9):\n",
    "    print(\"over Weight\")\n",
    "elif(weight<34.9):\n",
    "    print(\"Very Overweight\")\n",
    "else:\n",
    "    print(\"Extreme OverWeight\")\n"
   ]
  },
  {
   "cell_type": "code",
   "execution_count": null,
   "id": "ee39ab33",
   "metadata": {},
   "outputs": [],
   "source": []
  }
 ],
 "metadata": {
  "kernelspec": {
   "display_name": "Python 3 (ipykernel)",
   "language": "python",
   "name": "python3"
  },
  "language_info": {
   "codemirror_mode": {
    "name": "ipython",
    "version": 3
   },
   "file_extension": ".py",
   "mimetype": "text/x-python",
   "name": "python",
   "nbconvert_exporter": "python",
   "pygments_lexer": "ipython3",
   "version": "3.11.5"
  }
 },
 "nbformat": 4,
 "nbformat_minor": 5
}
