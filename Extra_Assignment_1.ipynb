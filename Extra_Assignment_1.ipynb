{
 "cells": [
  {
   "cell_type": "code",
   "execution_count": 1,
   "id": "fbffbf13",
   "metadata": {},
   "outputs": [
    {
     "name": "stdout",
     "output_type": "stream",
     "text": [
      "HOPE AI\n"
     ]
    }
   ],
   "source": [
    "print(\"HOPE AI\")"
   ]
  },
  {
   "cell_type": "code",
   "execution_count": 2,
   "id": "5ad077b0",
   "metadata": {},
   "outputs": [
    {
     "name": "stdout",
     "output_type": "stream",
     "text": [
      "Enter your institute name?:HOPE AI\n"
     ]
    }
   ],
   "source": [
    "name1=input(\"Enter your institute name?:\")"
   ]
  },
  {
   "cell_type": "code",
   "execution_count": 3,
   "id": "5edcf0f8",
   "metadata": {},
   "outputs": [
    {
     "name": "stdout",
     "output_type": "stream",
     "text": [
      "Enter your name:Raj\n",
      "Enter your age:15\n",
      "Enter your school name:Guru school\n",
      "Enter your drgree: B.E CSE\n"
     ]
    }
   ],
   "source": [
    "name=input(\"Enter your name:\") \n",
    "name=input(\"Enter your age:\")\n",
    "name=input(\"Enter your school name:\")\n",
    "name=input(\"Enter your drgree:\")"
   ]
  },
  {
   "cell_type": "code",
   "execution_count": 4,
   "id": "50b68eb4",
   "metadata": {},
   "outputs": [],
   "source": [
    "number1=43\n",
    "number2=34\n",
    "add=number1+number2"
   ]
  },
  {
   "cell_type": "code",
   "execution_count": 5,
   "id": "085adbae",
   "metadata": {},
   "outputs": [
    {
     "name": "stdout",
     "output_type": "stream",
     "text": [
      "a=43\n",
      "b=34\n",
      "add= 77\n"
     ]
    }
   ],
   "source": [
    "number1=int(input(\"a=\"))\n",
    "nummber2=int(input(\"b=\"))\n",
    "print(\"add=\",number1+number2)"
   ]
  },
  {
   "cell_type": "code",
   "execution_count": 10,
   "id": "eae77980",
   "metadata": {},
   "outputs": [],
   "source": [
    "number3=43\n",
    "number4=34\n",
    "sub=number3-number4"
   ]
  },
  {
   "cell_type": "code",
   "execution_count": 11,
   "id": "6648de73",
   "metadata": {},
   "outputs": [
    {
     "name": "stdout",
     "output_type": "stream",
     "text": [
      "a=43\n",
      "b=34\n",
      "sub= 9\n"
     ]
    }
   ],
   "source": [
    "number3=int(input(\"a=\"))\n",
    "number4=int(input(\"b=\"))\n",
    "print(\"sub=\",number3-number4)"
   ]
  },
  {
   "cell_type": "code",
   "execution_count": null,
   "id": "bb1fec36",
   "metadata": {},
   "outputs": [],
   "source": [
    "Num5=76\n",
    "Num6=31\n",
    "FloorDiv=Num5//Num6"
   ]
  },
  {
   "cell_type": "code",
   "execution_count": 22,
   "id": "2236ddac",
   "metadata": {},
   "outputs": [
    {
     "name": "stdout",
     "output_type": "stream",
     "text": [
      "a= 76\n",
      "b= 31\n",
      "Floor Div = 2\n"
     ]
    }
   ],
   "source": [
    "Num5=int(input(\"a= \"))\n",
    "Num6=int(input(\"b= \"))\n",
    "print(\"Floor Div =\",Num5//Num6)"
   ]
  },
  {
   "cell_type": "code",
   "execution_count": 12,
   "id": "d3dbc7a3",
   "metadata": {},
   "outputs": [],
   "source": [
    "number5=63\n",
    "number6=97\n",
    "Mul=number5*number6"
   ]
  },
  {
   "cell_type": "code",
   "execution_count": 13,
   "id": "10c2a7b5",
   "metadata": {},
   "outputs": [
    {
     "name": "stdout",
     "output_type": "stream",
     "text": [
      "a=63\n",
      "b=97\n",
      "mul= 6111\n"
     ]
    }
   ],
   "source": [
    "numer5=int(input(\"a=\",))\n",
    "number6=int(input(\"b=\",))\n",
    "print(\"mul=\",number5*number6)"
   ]
  },
  {
   "cell_type": "code",
   "execution_count": 16,
   "id": "7700221e",
   "metadata": {},
   "outputs": [],
   "source": [
    "number7=76\n",
    "number8=31\n",
    "FloatDiv=number7/number8"
   ]
  },
  {
   "cell_type": "code",
   "execution_count": 17,
   "id": "9da57396",
   "metadata": {},
   "outputs": [
    {
     "name": "stdout",
     "output_type": "stream",
     "text": [
      "a=76\n",
      "b=31\n",
      "Float Div= 2.4516129032258065\n"
     ]
    }
   ],
   "source": [
    "number7=int(input(\"a=\",))\n",
    "number8=int(input(\"b=\",))\n",
    "print(\"Float Div=\",number7/number8)"
   ]
  },
  {
   "cell_type": "code",
   "execution_count": 18,
   "id": "502f89d3",
   "metadata": {},
   "outputs": [],
   "source": [
    "Num1=76\n",
    "Num2=31\n",
    "Modulo=Num1%Num2"
   ]
  },
  {
   "cell_type": "code",
   "execution_count": 19,
   "id": "0dfff71a",
   "metadata": {},
   "outputs": [
    {
     "name": "stdout",
     "output_type": "stream",
     "text": [
      "a=76\n",
      "b=31\n",
      "Modulo= 14\n"
     ]
    }
   ],
   "source": [
    "Num1=int(input(\"a=\",))\n",
    "Num2=int(input(\"b=\",))\n",
    "print(\"Modulo=\",Num1%Num2)"
   ]
  },
  {
   "cell_type": "code",
   "execution_count": 20,
   "id": "38fffd43",
   "metadata": {},
   "outputs": [],
   "source": [
    "Num3=4\n",
    "Num4=4\n",
    "Power=Num3**Num4"
   ]
  },
  {
   "cell_type": "code",
   "execution_count": 21,
   "id": "4f909f28",
   "metadata": {},
   "outputs": [
    {
     "name": "stdout",
     "output_type": "stream",
     "text": [
      "a=4\n",
      "b=4\n",
      "power= 256\n"
     ]
    }
   ],
   "source": [
    "Num3=int(input(\"a=\",))\n",
    "Num4=int(input(\"b=\",))\n",
    "print(\"power=\",Num3**Num4)"
   ]
  },
  {
   "cell_type": "code",
   "execution_count": null,
   "id": "0b7319c1",
   "metadata": {},
   "outputs": [],
   "source": []
  }
 ],
 "metadata": {
  "kernelspec": {
   "display_name": "Python 3 (ipykernel)",
   "language": "python",
   "name": "python3"
  },
  "language_info": {
   "codemirror_mode": {
    "name": "ipython",
    "version": 3
   },
   "file_extension": ".py",
   "mimetype": "text/x-python",
   "name": "python",
   "nbconvert_exporter": "python",
   "pygments_lexer": "ipython3",
   "version": "3.11.5"
  }
 },
 "nbformat": 4,
 "nbformat_minor": 5
}
